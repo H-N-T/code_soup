{
 "cells": [
  {
   "cell_type": "code",
   "execution_count": 2,
   "metadata": {},
   "outputs": [
    {
     "name": "stdout",
     "output_type": "stream",
     "text": [
      "Copied 1 common files to C:\\Users\\henry\\OneDrive\\Documents\\foldseek\\Cpl-1\\both\n"
     ]
    }
   ],
   "source": [
    "import os\n",
    "import shutil\n",
    "\n",
    "def cross_ref_and_copy(folder1, folder2, destination_folder):\n",
    "    # Ensure the destination folder exists\n",
    "    os.makedirs(destination_folder, exist_ok=True)\n",
    "    \n",
    "    # Get sets of filenames from both folders\n",
    "    files_in_folder1 = set(os.listdir(folder1))\n",
    "    files_in_folder2 = set(os.listdir(folder2))\n",
    "    \n",
    "    # Find the intersection of filenames\n",
    "    common_files = files_in_folder1 & files_in_folder2\n",
    "    \n",
    "    # Copy common files to the destination folder\n",
    "    for file in common_files:\n",
    "        source_path = os.path.join(folder1, file)\n",
    "        dest_path = os.path.join(destination_folder, file)\n",
    "        \n",
    "        # Check if the file is present in both folders and copy\n",
    "        if os.path.isfile(source_path):\n",
    "            shutil.copy2(source_path, dest_path)  # Preserves metadata\n",
    "    \n",
    "    print(f\"Copied {len(common_files)} common files to {destination_folder}\")\n",
    "\n",
    "# Specify the folder paths\n",
    "folder1_path = r\"C:\\Users\\henry\\OneDrive\\Documents\\foldseek\\Cpl-1\\CBD\"\n",
    "folder2_path = r\"C:\\Users\\henry\\OneDrive\\Documents\\foldseek\\Cpl-1\\ami\"\n",
    "destination_folder_path = r\"C:\\Users\\henry\\OneDrive\\Documents\\foldseek\\Cpl-1\\both\"\n",
    "\n",
    "# Call the function\n",
    "cross_ref_and_copy(folder1_path, folder2_path, destination_folder_path)\n"
   ]
  },
  {
   "cell_type": "code",
   "execution_count": 3,
   "metadata": {},
   "outputs": [
    {
     "name": "stdout",
     "output_type": "stream",
     "text": [
      "Copied 1 common files to C:\\Users\\henry\\OneDrive\\Documents\\foldseek\\Cpl-1\\all_three\n"
     ]
    }
   ],
   "source": [
    "import os\n",
    "import shutil\n",
    "\n",
    "def cross_ref_and_copy(folder1, folder2, folder3, destination_folder):\n",
    "    # Ensure the destination folder exists\n",
    "    os.makedirs(destination_folder, exist_ok=True)\n",
    "    \n",
    "    # Get sets of filenames from all three folders\n",
    "    files_in_folder1 = set(os.listdir(folder1))\n",
    "    files_in_folder2 = set(os.listdir(folder2))\n",
    "    files_in_folder3 = set(os.listdir(folder3))\n",
    "    \n",
    "    # Find the intersection of filenames across all three folders\n",
    "    common_files = files_in_folder1 & files_in_folder2 & files_in_folder3\n",
    "    \n",
    "    # Copy common files to the destination folder\n",
    "    for file in common_files:\n",
    "        source_path = os.path.join(folder1, file)  # Assuming files have the same name and content in all folders\n",
    "        dest_path = os.path.join(destination_folder, file)\n",
    "        \n",
    "        # Check if the file exists in all folders and copy\n",
    "        if os.path.isfile(source_path):\n",
    "            shutil.copy2(source_path, dest_path)  # Preserves metadata\n",
    "    \n",
    "    print(f\"Copied {len(common_files)} common files to {destination_folder}\")\n",
    "\n",
    "# Specify the folder paths\n",
    "folder1_path = r\"C:\\Users\\henry\\OneDrive\\Documents\\foldseek\\Cpl-1\\CBD\"\n",
    "folder2_path = r\"C:\\Users\\henry\\OneDrive\\Documents\\foldseek\\Cpl-1\\ami\"\n",
    "folder3_path = r\"C:\\Users\\henry\\OneDrive\\Documents\\foldseek\\Cpl-1\\both\"\n",
    "destination_folder_path = r\"C:\\Users\\henry\\OneDrive\\Documents\\foldseek\\Cpl-1\\all_three\"\n",
    "\n",
    "# Call the function\n",
    "cross_ref_and_copy(folder1_path, folder2_path, folder3_path, destination_folder_path)\n"
   ]
  }
 ],
 "metadata": {
  "kernelspec": {
   "display_name": "Python 3",
   "language": "python",
   "name": "python3"
  },
  "language_info": {
   "codemirror_mode": {
    "name": "ipython",
    "version": 3
   },
   "file_extension": ".py",
   "mimetype": "text/x-python",
   "name": "python",
   "nbconvert_exporter": "python",
   "pygments_lexer": "ipython3",
   "version": "3.12.8"
  }
 },
 "nbformat": 4,
 "nbformat_minor": 2
}
