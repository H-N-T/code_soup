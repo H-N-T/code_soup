{
 "cells": [
  {
   "cell_type": "markdown",
   "metadata": {},
   "source": [
    "This script takes a fasta file containing a full (or partial) genome, and searches for ORFs containing keywords and/ or of a specific length. It then prints the seq IDs that pass the filters and lists the number and size of any introns present. Hits are also saved as a fasta."
   ]
  },
  {
   "cell_type": "code",
   "execution_count": null,
   "metadata": {},
   "outputs": [
    {
     "name": "stdout",
     "output_type": "stream",
     "text": [
      "Sequence lcl|KL584824.1_cds_KEQ66995.1_57:\n",
      "  Exons: 5, Total Exon Length: 4572 bp\n",
      "  Introns: 4, Total Intron Length: 210 bp\n",
      "  Intron Sizes: [50, 54, 56, 50]\n",
      "Sequence lcl|KL584837.1_cds_KEQ61572.1_6331:\n",
      "  Exons: 5, Total Exon Length: 4578 bp\n",
      "  Introns: 4, Total Intron Length: 198 bp\n",
      "  Intron Sizes: [47, 52, 52, 47]\n",
      "Sequence lcl|KL584838.1_cds_KEQ61279.1_6553:\n",
      "  Exons: 2, Total Exon Length: 4359 bp\n",
      "  Introns: 1, Total Intron Length: 59 bp\n",
      "  Intron Sizes: [59]\n",
      "\n",
      "Number of sequences in range 4570-4580 bp: 3\n",
      "Filtered sequences saved to C:\\Users\\henry\\Downloads\\ncbi_dataset\\ncbi_dataset\\data\\GCA_000721775.1\\cds_from_genomic_filter.fna\n"
     ]
    }
   ],
   "source": [
    "from Bio import SeqIO\n",
    "import re\n",
    "\n",
    "def extract_sequences_and_introns(fasta_file, output_file, min_length, max_length, keyword_filter=None):\n",
    "    \"\"\"\n",
    "    Extract sequences within a size range, filter by keyword, determine presence of introns, and print details.\n",
    "\n",
    "    Args:\n",
    "        fasta_file (str): Path to the input FASTA file.\n",
    "        output_file (str): Path to the output FASTA file for filtered sequences.\n",
    "        min_length (int): Minimum sequence length (inclusive).\n",
    "        max_length (int): Maximum sequence length (inclusive).\n",
    "        keyword_filter (str): Keyword to filter sequences by description (optional).\n",
    "    \"\"\"\n",
    "    count = 0  # Count of sequences in the range\n",
    "\n",
    "    with open(fasta_file, \"r\") as input_handle, open(output_file, \"w\") as output_handle:\n",
    "        for record in SeqIO.parse(input_handle, \"fasta\"):\n",
    "            if keyword_filter and keyword_filter.lower() not in record.description.lower():\n",
    "                # Skip sequences that do not contain the keyword\n",
    "                continue\n",
    "\n",
    "            seq_length = len(record.seq)\n",
    "            # Check if the sequence is within the range\n",
    "            if min_length <= seq_length <= max_length:\n",
    "                SeqIO.write(record, output_handle, \"fasta\")\n",
    "                count += 1\n",
    "\n",
    "                # Parse genomic location from the header\n",
    "                match = re.search(r'\\[location=([^\\]]+)\\]', record.description)\n",
    "                if match:\n",
    "                    location_field = match.group(1)\n",
    "\n",
    "                    if \"join\" in location_field:\n",
    "                        # Extract exon coordinates from \"join\"\n",
    "                        exon_coords = re.findall(r'(\\d+)\\.\\.(\\d+)', location_field)\n",
    "                        exon_lengths = [int(end) - int(start) + 1 for start, end in exon_coords]\n",
    "\n",
    "                        # Calculate intron sizes\n",
    "                        intron_sizes = []\n",
    "                        for i in range(len(exon_coords) - 1):\n",
    "                            end_of_prev = int(exon_coords[i][1])\n",
    "                            start_of_next = int(exon_coords[i + 1][0])\n",
    "                            intron_sizes.append(start_of_next - end_of_prev - 1)\n",
    "\n",
    "                        # Print results\n",
    "                        total_exon_length = sum(exon_lengths)\n",
    "                        total_intron_length = sum(intron_sizes)\n",
    "                        print(f\"Sequence {record.id}:\")\n",
    "                        print(f\"  Exons: {len(exon_coords)}, Total Exon Length: {total_exon_length} bp\")\n",
    "                        print(f\"  Introns: {len(intron_sizes)}, Total Intron Length: {total_intron_length} bp\")\n",
    "                        print(f\"  Intron Sizes: {intron_sizes}\")\n",
    "                    else:\n",
    "                        print(f\"Sequence {record.id} has no introns.\")\n",
    "                else:\n",
    "                    print(f\"Genomic location not found in description for sequence {record.id}.\")\n",
    "\n",
    "    print(f\"\\nNumber of sequences in range {min_length}-{max_length} bp: {count}\")\n",
    "    print(f\"Filtered sequences saved to {output_file}\")\n",
    "\n",
    "# Parameters\n",
    "input_fasta = r\"C:\\Users\\henry\\Downloads\\ncbi_dataset\\ncbi_dataset\\data\\GCA_000721775.1\\cds_from_genomic.fna\"  # Replace with your input FASTA file\n",
    "output_fasta = r\"C:\\Users\\henry\\Downloads\\ncbi_dataset\\ncbi_dataset\\data\\GCA_000721775.1\\cds_from_genomic_filter.fna\"  # Replace with desired output file\n",
    "min_bp = 4570  # Minimum sequence length\n",
    "max_bp = 4580  # Maximum sequence length\n",
    "keyword_filter = None # Replace with your desired keyword, or set to None for no filtering\n",
    "\n",
    "# Run the function\n",
    "extract_sequences_and_introns(input_fasta, output_fasta, min_bp, max_bp, keyword_filter)\n"
   ]
  },
  {
   "cell_type": "code",
   "execution_count": null,
   "metadata": {},
   "outputs": [
    {
     "ename": "TypeError",
     "evalue": "'<' not supported between instances of 'method' and 'int'",
     "output_type": "error",
     "traceback": [
      "\u001b[1;31m---------------------------------------------------------------------------\u001b[0m",
      "\u001b[1;31mTypeError\u001b[0m                                 Traceback (most recent call last)",
      "Cell \u001b[1;32mIn[24], line 14\u001b[0m\n\u001b[0;32m     12\u001b[0m \u001b[38;5;28;01mwith\u001b[39;00m \u001b[38;5;28mopen\u001b[39m(input_file, \u001b[38;5;124m\"\u001b[39m\u001b[38;5;124mr\u001b[39m\u001b[38;5;124m\"\u001b[39m) \u001b[38;5;28;01mas\u001b[39;00m input_handle, \u001b[38;5;28mopen\u001b[39m (output_file, \u001b[38;5;124m\"\u001b[39m\u001b[38;5;124mw\u001b[39m\u001b[38;5;124m\"\u001b[39m) \u001b[38;5;28;01mas\u001b[39;00m output_handle:\n\u001b[0;32m     13\u001b[0m     \u001b[38;5;28;01mfor\u001b[39;00m sequence \u001b[38;5;129;01min\u001b[39;00m SeqIO\u001b[38;5;241m.\u001b[39mparse(input_file, \u001b[38;5;124m\"\u001b[39m\u001b[38;5;124mfasta\u001b[39m\u001b[38;5;124m\"\u001b[39m):\n\u001b[1;32m---> 14\u001b[0m         \u001b[38;5;28;01mif\u001b[39;00m keyword \u001b[38;5;129;01mnot\u001b[39;00m \u001b[38;5;129;01min\u001b[39;00m sequence\u001b[38;5;241m.\u001b[39mdescription \u001b[38;5;129;01mand\u001b[39;00m \u001b[43msequence\u001b[49m\u001b[38;5;241;43m.\u001b[39;49m\u001b[38;5;21;43m__len__\u001b[39;49m\u001b[43m \u001b[49m\u001b[38;5;241;43m<\u001b[39;49m\u001b[43m \u001b[49m\u001b[43mmaximum_length\u001b[49m \u001b[38;5;129;01mand\u001b[39;00m sequence\u001b[38;5;241m.\u001b[39m\u001b[38;5;21m__len__\u001b[39m \u001b[38;5;241m>\u001b[39m minimim_length:\n\u001b[0;32m     15\u001b[0m             \u001b[38;5;28;01mcontinue\u001b[39;00m\n\u001b[0;32m     16\u001b[0m         \u001b[38;5;28;01melse\u001b[39;00m:\n",
      "\u001b[1;31mTypeError\u001b[0m: '<' not supported between instances of 'method' and 'int'"
     ]
    }
   ],
   "source": [
    "from Bio import SeqIO\n",
    "import re\n",
    "\n",
    "input_file = r\"C:\\Users\\henry\\Downloads\\ncbi_dataset\\ncbi_dataset\\data\\GCA_000721775.1\\cds_from_genomic.fna\"  # Replace with your input FASTA file\n",
    "output_file = r\"C:\\Users\\henry\\Downloads\\ncbi_dataset\\ncbi_dataset\\data\\GCA_000721775.1\\cds_from_genomic_filter2.fna\"  # Replace with desired output file\n",
    "\n",
    "maximum_length = 2000\n",
    "minimum_length = 1000\n",
    "\n",
    "keyword = \"pullulan\"\n",
    "count = 0\n",
    "with open(input_file, \"r\") as input_handle, open (output_file, \"w\") as output_handle:\n",
    "    for sequence in SeqIO.parse(input_file, \"fasta\"):\n",
    "        seq_len = len(sequence)\n",
    "            \n",
    "        if keyword not in sequence.description and sequence.__len__ < maximum_length and sequence.__len__ > minimim_length:\n",
    "            continue\n",
    "        else:\n",
    "            print(sequence.description)\n",
    "            SeqIO.write(sequence, output_handle, \"fasta\")\n",
    "            count = count + 1\n",
    "\n",
    "print ( f\"Search complete, {count} sequence descriptors found containing the keyword \\\"{keyword}\\\"\")\n"
   ]
  },
  {
   "cell_type": "code",
   "execution_count": 23,
   "metadata": {},
   "outputs": [
    {
     "name": "stdout",
     "output_type": "stream",
     "text": [
      "['_AnnotationsDict', '_AnnotationsDictValue', '__add__', '__annotations__', '__bool__', '__bytes__', '__class__', '__contains__', '__delattr__', '__dict__', '__dir__', '__doc__', '__eq__', '__format__', '__ge__', '__getattribute__', '__getitem__', '__getstate__', '__gt__', '__hash__', '__init__', '__init_subclass__', '__iter__', '__le__', '__len__', '__lt__', '__module__', '__ne__', '__new__', '__radd__', '__reduce__', '__reduce_ex__', '__repr__', '__setattr__', '__sizeof__', '__str__', '__subclasshook__', '__weakref__', '_per_letter_annotations', '_seq', '_set_per_letter_annotations', '_set_seq', 'annotations', 'count', 'dbxrefs', 'description', 'features', 'format', 'id', 'islower', 'isupper', 'letter_annotations', 'lower', 'name', 'reverse_complement', 'seq', 'translate', 'upper']\n"
     ]
    }
   ],
   "source": [
    "input_file = r\"C:\\Users\\henry\\Downloads\\ncbi_dataset\\ncbi_dataset\\data\\GCA_000721775.1\\cds_from_genomic.fna\"  # Replace with your input FASTA file\n",
    "seq_records = SeqIO.parse(input_file, \"fasta\")\n",
    "seq_record = next(seq_records)\n",
    "attributes = dir(seq_record)\n",
    "print(attributes)"
   ]
  },
  {
   "cell_type": "code",
   "execution_count": null,
   "metadata": {},
   "outputs": [],
   "source": []
  }
 ],
 "metadata": {
  "kernelspec": {
   "display_name": "Python 3",
   "language": "python",
   "name": "python3"
  },
  "language_info": {
   "codemirror_mode": {
    "name": "ipython",
    "version": 3
   },
   "file_extension": ".py",
   "mimetype": "text/x-python",
   "name": "python",
   "nbconvert_exporter": "python",
   "pygments_lexer": "ipython3",
   "version": "3.12.8"
  }
 },
 "nbformat": 4,
 "nbformat_minor": 2
}
